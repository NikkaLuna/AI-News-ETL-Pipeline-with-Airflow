{
 "cells": [
  {
   "cell_type": "markdown",
   "metadata": {},
   "source": [
    "## Build a News ETL Data Pipeline Using Python and SQLite"
   ]
  },
  {
   "cell_type": "markdown",
   "metadata": {},
   "source": [
    "### Task 1: Import Libraries and Connect to the News API"
   ]
  },
  {
   "cell_type": "code",
   "execution_count": null,
   "metadata": {},
   "outputs": [],
   "source": [
    "import pandas as pd\n",
    "import sqlite3\n",
    "import logging\n",
    "from newsapi import NewsApiClient"
   ]
  },
  {
   "cell_type": "code",
   "execution_count": null,
   "metadata": {},
   "outputs": [],
   "source": [
    "news_api_key = \"69651cc0cfc54c9087b1c98867e8353c\"  \n",
    "news_api = NewsApiClient(api_key=news_api_key)"
   ]
  },
  {
   "cell_type": "markdown",
   "metadata": {},
   "source": [
    "### Task 2: Retrieve and Print News Articles"
   ]
  },
  {
   "cell_type": "code",
   "execution_count": null,
   "metadata": {},
   "outputs": [],
   "source": [
    "def extract_news_data():\n",
    "    try:\n",
    "        result = news_api.get_everything(q=\"AI\", language=\"en\",sort_by='publishedAt')\n",
    "        logging.info(\"Connection is successful.\")\n",
    "        return result[\"articles\"]\n",
    "    except:\n",
    "        logging.error(\"Connection is unsuccessful.\")\n",
    "        return None\n",
    "\n",
    "articles = extract_news_data()\n",
    "\n",
    "print(articles[:3])"
   ]
  },
  {
   "cell_type": "markdown",
   "metadata": {},
   "source": [
    "### Task 3: Clean Author Column"
   ]
  },
  {
   "cell_type": "code",
   "execution_count": null,
   "metadata": {},
   "outputs": [],
   "source": [
    "def clean_author_column(text):\n",
    "    try:\n",
    "        return text.split(\",\")[0].title()\n",
    "    except AttributeError:\n",
    "        return \"No Author\""
   ]
  },
  {
   "cell_type": "markdown",
   "metadata": {},
   "source": [
    "### Task 4: Transform News Data"
   ]
  },
  {
   "cell_type": "code",
   "execution_count": null,
   "metadata": {},
   "outputs": [],
   "source": [
    "def transform_news_data(articles):\n",
    "    article_list = []\n",
    "    for i in articles:\n",
    "        article_list.append([value.get(\"name\", 0) if key == \"source\" else value for key, value in i.items() if key in [\"author\", \"title\", \"publishedAt\", \"content\", \"url\", \"source\"]])\n",
    "\n",
    "    df = pd.DataFrame(article_list, columns=[\"Source\", \"Author Name\", \"News Title\", \"URL\", \"Date Published\", \"Content\"])\n",
    "\n",
    "    df[\"Date Published\"] = pd.to_datetime(df[\"Date Published\"]).dt.strftime('%Y-%m-%d %H:%M:%S')\n",
    "    df[\"Author Name\"] = df[\"Author Name\"].apply(clean_author_column)\n",
    " \n",
    "    return df\n",
    "\n",
    "transformed_data = transform_news_data(articles)\n",
    "\n",
    "print(transformed_data)"
   ]
  },
  {
   "cell_type": "markdown",
   "metadata": {},
   "source": [
    "### Task 5: Load the Data into SQLite Database\n"
   ]
  },
  {
   "cell_type": "code",
   "execution_count": null,
   "metadata": {},
   "outputs": [],
   "source": [
    "def load_news_data(data):\n",
    "    with sqlite3.connect(\"/usercode/news_data.sqlite\") as connection:\n",
    "        cursor = connection.cursor()\n",
    "        cursor.execute('''\n",
    "            CREATE TABLE IF NOT EXISTS news_table (\n",
    "                \"Source\" VARCHAR(30),\n",
    "                \"Author Name\" TEXT,\n",
    "                \"News Title\" TEXT,\n",
    "                \"URL\" TEXT,\n",
    "                \"Date Published\" TEXT,\n",
    "                \"Content\" TEXT\n",
    "            )\n",
    "        ''')\n",
    "    data.to_sql(name=\"news_table\", con=connection, index=False, if_exists=\"append\")\n",
    " \n",
    "load_news_data(transformed_data)"
   ]
  },
  {
   "cell_type": "markdown",
   "metadata": {},
   "source": [
    "### Task 8: Verify Data Loading"
   ]
  },
  {
   "cell_type": "code",
   "execution_count": null,
   "metadata": {},
   "outputs": [],
   "source": [
    "with sqlite3.connect(\"/usercode/etl_news_data.sqlite\") as connection:\n",
    "    df = pd.read_sql(\"SELECT * FROM news_table;\", connection)\n",
    "df.head()"
   ]
  }
 ],
 "metadata": {
  "kernelspec": {
   "display_name": "Python 3",
   "language": "python",
   "name": "python3"
  },
  "language_info": {
   "codemirror_mode": {
    "name": "ipython",
    "version": 3
   },
   "file_extension": ".py",
   "mimetype": "text/x-python",
   "name": "python",
   "nbconvert_exporter": "python",
   "pygments_lexer": "ipython3",
   "version": "3.8.10 (default, Nov 22 2023, 10:22:35) \n[GCC 9.4.0]"
  },
  "orig_nbformat": 4,
  "vscode": {
   "interpreter": {
    "hash": "916dbcbb3f70747c44a77c7bcd40155683ae19c65e1c03b4aa3499c5328201f1"
   }
  }
 },
 "nbformat": 4,
 "nbformat_minor": 2
}
